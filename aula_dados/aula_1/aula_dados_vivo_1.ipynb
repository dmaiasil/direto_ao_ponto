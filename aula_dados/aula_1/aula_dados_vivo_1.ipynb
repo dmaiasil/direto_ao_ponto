{
 "cells": [
  {
   "cell_type": "markdown",
   "id": "dd686949",
   "metadata": {},
   "source": [
    "Aula de Dados 1\n"
   ]
  },
  {
   "cell_type": "markdown",
   "id": "8da4f3fa",
   "metadata": {},
   "source": [
    "# 1 Importar dados"
   ]
  },
  {
   "cell_type": "code",
   "execution_count": 1,
   "id": "cfdedc67",
   "metadata": {},
   "outputs": [],
   "source": [
    "import pandas as pd"
   ]
  },
  {
   "cell_type": "code",
   "execution_count": 2,
   "id": "3e55dc6e",
   "metadata": {},
   "outputs": [
    {
     "name": "stderr",
     "output_type": "stream",
     "text": [
      "C:\\Users\\dmaiasil\\AppData\\Local\\Temp\\ipykernel_19444\\1903739534.py:2: DtypeWarning: Columns (5,6,7,8,9,10,11,12,13,14,15,16,17,18,19,20,21,22,23,24,25,26,27,28,29,30,31,32,33,34,35,36,37,38,39,40,41,42,45,46,47) have mixed types. Specify dtype option on import or set low_memory=False.\n",
      "  air_sat = pd.read_csv(\"aula_1_satisfacao_passageiro.csv\")\n"
     ]
    }
   ],
   "source": [
    "# aula_1_satisfacao_passageiro.csv\n",
    "air_sat = pd.read_csv(\"aula_1_satisfacao_passageiro.csv\")"
   ]
  },
  {
   "cell_type": "code",
   "execution_count": 3,
   "id": "655bec9f",
   "metadata": {},
   "outputs": [
    {
     "name": "stdout",
     "output_type": "stream",
     "text": [
      "<class 'pandas.core.frame.DataFrame'>\n",
      "RangeIndex: 483707 entries, 0 to 483706\n",
      "Data columns (total 51 columns):\n",
      " #   Column                                                                      Non-Null Count   Dtype \n",
      "---  ------                                                                      --------------   ----- \n",
      " 0   SIGLA AEROPORTO                                                             483707 non-null  object\n",
      " 1   TIPO DE VOO                                                                 483707 non-null  object\n",
      " 2   DATA DA COLETA                                                              483707 non-null  object\n",
      " 3   MÊS                                                                         483707 non-null  object\n",
      " 4   TRIMESTRE                                                                   483707 non-null  object\n",
      " 5   FACILIDADE DE EMBARQUE / DESEMBARQUE NO MEIO-FIO                            189559 non-null  object\n",
      " 6   TEMPO DE FILA NA INSPEÇÃO DE SEGURANÇA                                      245912 non-null  object\n",
      " 7   CONFIABILIDADE DA INSPEÇÃO DE SEGURANÇA                                     244696 non-null  object\n",
      " 8   CORDIALIDADE E PRESTATIVIDADE DOS FUNCIONÁRIOS DA INSPEÇÃO DE SEGURANÇA     245665 non-null  object\n",
      " 9   QUALIDADE DA SINALIZAÇÃO DO AEROPORTO                                       341321 non-null  object\n",
      " 10  DISPONIBILIDADE E QUALIDADE DAS INFORMAÇÕES NOS PAINÉIS  DE VOO             339380 non-null  object\n",
      " 11  DISPONIBILIDADE DE TOMADAS                                                  196476 non-null  object\n",
      " 12  QUALIDADE DA INTERNET / WI-FI                                               200687 non-null  object\n",
      " 13  DISPONIBILIDADE DE SANITÁRIOS                                               324511 non-null  object\n",
      " 14  LIMPEZA DOS SANITÁRIOS                                                      320867 non-null  object\n",
      " 15  DISPONIBILIDADE DE ASSENTOS NA SALA DE EMBARQUE                             243431 non-null  object\n",
      " 16  SENSAÇÃO DE SEGURANÇA NAS ÁREAS PÚBLICAS DO AEROPORTO                       298672 non-null  object\n",
      " 17  LIMPEZA GERAL DO AEROPORTO                                                  343392 non-null  object\n",
      " 18  CONFORTO TÉRMICO DO AEROPORTO                                               343968 non-null  object\n",
      " 19  CONFORTO ACÚSTICO DO AEROPORTO                                              342480 non-null  object\n",
      " 20  QUALIDADE DA INFORMAÇÃO NOS PAINÉIS DAS ESTEIRAS DE RESTITUIÇÃO DE BAGAGEM  125807 non-null  object\n",
      " 21  QUALIDADE DAS INSTALAÇÕES DE ESTACIONAMENTO DE VEÍCULOS                     58804 non-null   object\n",
      " 22  DISPONIBILIDADE DE VAGAS NO ESTACIONAMENTO DE VEÍCULOS                      13771 non-null   object\n",
      " 23  CUSTO-BENEFÍCIO DO ESTACIONAMENTO                                           53007 non-null   object\n",
      " 24  QUANTIDADE E QUALIDADE DE LANCHONETES/RESTAURANTES                          232751 non-null  object\n",
      " 25  CUSTO-BENEFÍCIO DOS PRODUTOS DE LANCHONETES/RESTAURANTES                    228282 non-null  object\n",
      " 26  DISPONIBILIDADE E LOCALIZAÇÃO DE BANCOS/CAIXAS ELETRÔNICOS/CASAS DE CÂMBIO  192867 non-null  object\n",
      " 27  QUANTIDADE E QUALIDADE DE ESTABELECIMENTOS COMERCIAIS                       159800 non-null  object\n",
      " 28  CUSTO-BENEFÍCIO DOS PRODUTOS COMERCIAIS                                     146550 non-null  object\n",
      " 29  TEMPO DE FILA NO CHECK-IN (AUTOATENDIMENTO)                                 58321 non-null   object\n",
      " 30  TEMPO DE FILA NO CHECK-IN (GUICHÊ)                                          139618 non-null  object\n",
      " 31  CORDIALIDADE E PRESTATIVIDADE DOS FUNCIONÁRIOS DO CHECK-IN                  145738 non-null  object\n",
      " 32  QUALIDADE DA INFORMAÇÃO PRESTADA PELA CIA AÉREA                             55792 non-null   object\n",
      " 33  VELOCIDADE DA RESTITUIÇÃO DE BAGAGEM                                        196700 non-null  object\n",
      " 34  INTEGRIDADE DA BAGAGEM                                                      195499 non-null  object\n",
      " 35  TEMPO DE FILA NA EMIGRAÇÃO                                                  85137 non-null   object\n",
      " 36  CORDIALIDADE DOS FUNCIONÁRIOS DA EMIGRAÇÃO                                  84150 non-null   object\n",
      " 37  TEMPO DE FILA NA IMIGRAÇÃO                                                  62328 non-null   object\n",
      " 38  CORDIALIDADE DOS FUNCIONÁRIOS DA IMIGRAÇÃO                                  61570 non-null   object\n",
      " 39  TEMPO DE FILA DA ADUANA                                                     59519 non-null   object\n",
      " 40  CORDIALIDADE DO FUNCIONÁRIO DA ADUANA                                       58575 non-null   object\n",
      " 41  DISPONIBILIDADE DE TRANSPORTE PÚBLICO PARA O AEROPORTO                      126144 non-null  object\n",
      " 42  SATISFAÇÃO GERAL COM O AEROPORTO                                            482760 non-null  object\n",
      " 43  NACIONALIDADE DO ENTREVISTADO                                               344365 non-null  object\n",
      " 44  GENERO DO ENTREVISTADO                                                      344377 non-null  object\n",
      " 45  IDADE DO ENTREVISTADO                                                       244249 non-null  object\n",
      " 46  ESCOLARIDADE                                                                211550 non-null  object\n",
      " 47  RENDA DO ENTREVISTADO                                                       244246 non-null  object\n",
      " 48  MOTIVO DA VIAGEM                                                            343918 non-null  object\n",
      " 49  FREQUÊNCIA DE VIAGEM (últimos 12 meses)                                     344390 non-null  object\n",
      " 50  Ano                                                                         483707 non-null  int64 \n",
      "dtypes: int64(1), object(50)\n",
      "memory usage: 188.2+ MB\n"
     ]
    }
   ],
   "source": [
    "air_sat.info()"
   ]
  },
  {
   "cell_type": "code",
   "execution_count": 4,
   "id": "188c484e",
   "metadata": {},
   "outputs": [
    {
     "data": {
      "text/plain": [
       "SIGLA AEROPORTO                                                                0.000000\n",
       "TIPO DE VOO                                                                    0.000000\n",
       "DATA DA COLETA                                                                 0.000000\n",
       "MÊS                                                                            0.000000\n",
       "TRIMESTRE                                                                      0.000000\n",
       "FACILIDADE DE EMBARQUE / DESEMBARQUE NO MEIO-FIO                              60.811194\n",
       "TEMPO DE FILA NA INSPEÇÃO DE SEGURANÇA                                        49.160959\n",
       "CONFIABILIDADE DA INSPEÇÃO DE SEGURANÇA                                       49.412351\n",
       "CORDIALIDADE E PRESTATIVIDADE DOS FUNCIONÁRIOS DA INSPEÇÃO DE SEGURANÇA       49.212023\n",
       "QUALIDADE DA SINALIZAÇÃO DO AEROPORTO                                         29.436415\n",
       "DISPONIBILIDADE E QUALIDADE DAS INFORMAÇÕES NOS PAINÉIS  DE VOO               29.837691\n",
       "DISPONIBILIDADE DE TOMADAS                                                    59.381196\n",
       "QUALIDADE DA INTERNET / WI-FI                                                 58.510627\n",
       "DISPONIBILIDADE DE SANITÁRIOS                                                 32.911659\n",
       "LIMPEZA DOS SANITÁRIOS                                                        33.665008\n",
       "DISPONIBILIDADE DE ASSENTOS NA SALA DE EMBARQUE                               49.673873\n",
       "SENSAÇÃO DE SEGURANÇA NAS ÁREAS PÚBLICAS DO AEROPORTO                         38.253530\n",
       "LIMPEZA GERAL DO AEROPORTO                                                    29.008263\n",
       "CONFORTO TÉRMICO DO AEROPORTO                                                 28.889183\n",
       "CONFORTO ACÚSTICO DO AEROPORTO                                                29.196807\n",
       "QUALIDADE DA INFORMAÇÃO NOS PAINÉIS DAS ESTEIRAS DE RESTITUIÇÃO DE BAGAGEM    73.991073\n",
       "QUALIDADE DAS INSTALAÇÕES DE ESTACIONAMENTO DE VEÍCULOS                       87.843054\n",
       "DISPONIBILIDADE DE VAGAS NO ESTACIONAMENTO DE VEÍCULOS                        97.153029\n",
       "CUSTO-BENEFÍCIO DO ESTACIONAMENTO                                             89.041507\n",
       "QUANTIDADE E QUALIDADE DE LANCHONETES/RESTAURANTES                            51.881821\n",
       "CUSTO-BENEFÍCIO DOS PRODUTOS DE LANCHONETES/RESTAURANTES                      52.805727\n",
       "DISPONIBILIDADE E LOCALIZAÇÃO DE BANCOS/CAIXAS ELETRÔNICOS/CASAS DE CÂMBIO    60.127308\n",
       "QUANTIDADE E QUALIDADE DE ESTABELECIMENTOS COMERCIAIS                         66.963472\n",
       "CUSTO-BENEFÍCIO DOS PRODUTOS COMERCIAIS                                       69.702733\n",
       "TEMPO DE FILA NO CHECK-IN (AUTOATENDIMENTO)                                   87.942908\n",
       "TEMPO DE FILA NO CHECK-IN (GUICHÊ)                                            71.135832\n",
       "CORDIALIDADE E PRESTATIVIDADE DOS FUNCIONÁRIOS DO CHECK-IN                    69.870603\n",
       "QUALIDADE DA INFORMAÇÃO PRESTADA PELA CIA AÉREA                               88.465745\n",
       "VELOCIDADE DA RESTITUIÇÃO DE BAGAGEM                                          59.334887\n",
       "INTEGRIDADE DA BAGAGEM                                                        59.583177\n",
       "TEMPO DE FILA NA EMIGRAÇÃO                                                    82.399056\n",
       "CORDIALIDADE DOS FUNCIONÁRIOS DA EMIGRAÇÃO                                    82.603105\n",
       "TEMPO DE FILA NA IMIGRAÇÃO                                                    87.114514\n",
       "CORDIALIDADE DOS FUNCIONÁRIOS DA IMIGRAÇÃO                                    87.271220\n",
       "TEMPO DE FILA DA ADUANA                                                       87.695237\n",
       "CORDIALIDADE DO FUNCIONÁRIO DA ADUANA                                         87.890396\n",
       "DISPONIBILIDADE DE TRANSPORTE PÚBLICO PARA O AEROPORTO                        73.921403\n",
       "SATISFAÇÃO GERAL COM O AEROPORTO                                               0.195780\n",
       "NACIONALIDADE DO ENTREVISTADO                                                 28.807108\n",
       "GENERO DO ENTREVISTADO                                                        28.804628\n",
       "IDADE DO ENTREVISTADO                                                         49.504762\n",
       "ESCOLARIDADE                                                                  56.264846\n",
       "RENDA DO ENTREVISTADO                                                         49.505382\n",
       "MOTIVO DA VIAGEM                                                              28.899520\n",
       "FREQUÊNCIA DE VIAGEM (últimos 12 meses)                                       28.801940\n",
       "Ano                                                                            0.000000\n",
       "dtype: float64"
      ]
     },
     "execution_count": 4,
     "metadata": {},
     "output_type": "execute_result"
    }
   ],
   "source": [
    "air_sat.isnull().mean() * 100"
   ]
  },
  {
   "cell_type": "code",
   "execution_count": null,
   "id": "f7db3b4c",
   "metadata": {},
   "outputs": [],
   "source": []
  },
  {
   "cell_type": "code",
   "execution_count": null,
   "id": "990447af",
   "metadata": {},
   "outputs": [],
   "source": []
  },
  {
   "cell_type": "code",
   "execution_count": null,
   "id": "3fab1eba",
   "metadata": {},
   "outputs": [],
   "source": []
  },
  {
   "cell_type": "code",
   "execution_count": null,
   "id": "6e1079be",
   "metadata": {},
   "outputs": [],
   "source": []
  }
 ],
 "metadata": {
  "kernelspec": {
   "display_name": "Python 3 (ipykernel)",
   "language": "python",
   "name": "python3"
  },
  "language_info": {
   "codemirror_mode": {
    "name": "ipython",
    "version": 3
   },
   "file_extension": ".py",
   "mimetype": "text/x-python",
   "name": "python",
   "nbconvert_exporter": "python",
   "pygments_lexer": "ipython3",
   "version": "3.10.10"
  }
 },
 "nbformat": 4,
 "nbformat_minor": 5
}
